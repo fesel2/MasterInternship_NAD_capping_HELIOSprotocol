{
 "cells": [
  {
   "cell_type": "markdown",
   "id": "8bf753d4",
   "metadata": {},
   "source": [
    "# HELIOS Seq Analysis of Hek cells\n",
    "## What has been done so far...\n",
    "Several DataProcessing steps were done till here with other software on the computational cluster\n",
    "* fastq were trimmed and demultiplexed with cutadapt\n",
    "* quality checked and further trimmed with trimmomatic\n",
    "* reads were aligned with hisat2 to reference genome and reference spikeRNA, done for merged reads and not merged/paired reads separately\n",
    "* count tables produced with featureCounts\n",
    "* a custom python script extracts output from hisat2 for the spike RNAs and puts them in a table for further processing\n",
    "* in 01_Analysis data was\n",
    "  * annotated\n",
    "  * filtered\n",
    "  * normalized\n",
    "  * spike content was compared\n",
    "* in 02_Analysis calculation were made:\n",
    "  * enrichmentfactors\n",
    "  * logfoldchanges\n",
    "  * statistical tests\n",
    "\n"
   ]
  },
  {
   "cell_type": "code",
   "execution_count": 1,
   "id": "5ab2dcd1",
   "metadata": {
    "scrolled": false
   },
   "outputs": [],
   "source": [
    "# import required modules\n",
    "import os\n",
    "import pandas as pd\n",
    "import numpy as np\n",
    "import anndata as ad\n",
    "import matplotlib.pyplot as plt\n",
    "import matplotlib.ticker as tck\n",
    "import seaborn as sns\n",
    "from scipy.stats import ranksums\n",
    "from scipy.stats import ttest_ind\n",
    "\n",
    "colors = sns.color_palette(\"tab10\")\n",
    "colors[8] = \"gold\"\n",
    "\n",
    "#from sklearn.preprocessing import StandardScaler\n",
    "#from sklearn.decomposition import PCA\n",
    "\n",
    "#pd.set_option('display.max_columns', None)"
   ]
  },
  {
   "cell_type": "code",
   "execution_count": 2,
   "id": "a78c22e3",
   "metadata": {
    "scrolled": true
   },
   "outputs": [
    {
     "data": {
      "text/plain": [
       "AnnData object with n_obs × n_vars = 24 × 5588\n",
       "    obs: 'encoding', 'pos_neg', 'treatment', 'gene_counts', 'biotinRna', 'biotin_scalingF'\n",
       "    var: 'Chr', 'Start', 'End', 'Strand', 'Length', 'Ensemble_ID', 'ensembl_gene_id', 'external_gene_name', 'description', 'gene_biotype', 'entrezgene_id', 'start_position', 'end_position', 'chromosome_name', 'total_values', 'highest_sample'\n",
       "    uns: 'L2FC_spikes', 'enrichmentfactors_spikes', 'normalized_spike_counts', 'original_spike_table', 'spike_correlation', 'spike_counts'\n",
       "    varm: 'L2FC', 'L2FC_mean_statTests', 'enrichmentfactors'\n",
       "    layers: 'biotin_scaled'"
      ]
     },
     "execution_count": 2,
     "metadata": {},
     "output_type": "execute_result"
    }
   ],
   "source": [
    "adata = ad.read_h5ad(\"data/anndata.h5ad\")\n",
    "adata"
   ]
  },
  {
   "cell_type": "code",
   "execution_count": null,
   "id": "bdcc3188",
   "metadata": {},
   "outputs": [],
   "source": []
  }
 ],
 "metadata": {
  "kernelspec": {
   "display_name": "JIAssSeq",
   "language": "python",
   "name": "jia_ssseq"
  },
  "language_info": {
   "codemirror_mode": {
    "name": "ipython",
    "version": 3
   },
   "file_extension": ".py",
   "mimetype": "text/x-python",
   "name": "python",
   "nbconvert_exporter": "python",
   "pygments_lexer": "ipython3",
   "version": "3.11.3"
  }
 },
 "nbformat": 4,
 "nbformat_minor": 5
}
